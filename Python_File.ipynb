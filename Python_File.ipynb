{
  "nbformat": 4,
  "nbformat_minor": 0,
  "metadata": {
    "colab": {
      "provenance": [],
      "include_colab_link": true
    },
    "kernelspec": {
      "name": "python3",
      "display_name": "Python 3"
    },
    "language_info": {
      "name": "python"
    }
  },
  "cells": [
    {
      "cell_type": "markdown",
      "metadata": {
        "id": "view-in-github",
        "colab_type": "text"
      },
      "source": [
        "<a href=\"https://colab.research.google.com/github/parasajahnavi/Python_file/blob/main/Python_File.ipynb\" target=\"_parent\"><img src=\"https://colab.research.google.com/assets/colab-badge.svg\" alt=\"Open In Colab\"/></a>"
      ]
    },
    {
      "cell_type": "code",
      "execution_count": null,
      "metadata": {
        "colab": {
          "base_uri": "https://localhost:8080/"
        },
        "id": "kTebXLD6zNTI",
        "outputId": "930f7d50-7d14-42ac-eeea-8cbdc6538956"
      },
      "outputs": [
        {
          "output_type": "stream",
          "name": "stdout",
          "text": [
            "Name\n",
            "Janu\n"
          ]
        }
      ],
      "source": [
        "#Basics of Python Day-1\n",
        "\n",
        "#syntax for print\n",
        "print('Name')\n",
        "\n",
        "#print a value by using variable\n",
        "name='Janu'\n",
        "print(name)\n",
        "\n"
      ]
    },
    {
      "cell_type": "code",
      "source": [
        "#Data Types in Python\n",
        "\n",
        "''' we have different categories of Data types in python\n",
        "Here are Python data types explained simply in one line each:\n",
        "\n",
        "int: Represents whole numbers (e.g., 5, -10).\n",
        "float: Represents decimal numbers (e.g., 3.14, -2.5).\n",
        "str: Represents text or strings of characters (e.g., \"Hello\").\n",
        "bool: Represents logical values True or False.\n",
        "list: A collection of ordered, changeable items (e.g., [1, 2, 3]).\n",
        "tuple: A collection of ordered, unchangeable items (e.g., (1, 2, 3)).\n",
        "set: A collection of unordered, unique items (e.g., {1, 2, 3}).\n",
        "dict: A collection of key-value pairs (e.g., {\"key\": \"value\"}).\n",
        "complex: Represents complex numbers (e.g., 3+4j).\n",
        "NoneType: Represents the absence of a value (e.g., None).'''\n",
        "\n",
        "'''1- Numeric Type\n",
        "integer,float, complex'''\n",
        "\n",
        "#interger\n",
        "name='vijji'\n",
        "age=20\n",
        "percentage =89.9\n",
        "print(age,type(age))# this prints the value of age\n",
        "print(name,type(name))\n",
        "print(percentage,type(percentage))# type says the which type it is(age,percentage,name)\n",
        "\n"
      ],
      "metadata": {
        "colab": {
          "base_uri": "https://localhost:8080/"
        },
        "id": "w_XXP83X4CLz",
        "outputId": "49168baf-ebd0-4619-8b3f-5be5fb1119c7"
      },
      "execution_count": null,
      "outputs": [
        {
          "output_type": "stream",
          "name": "stdout",
          "text": [
            "20 <class 'int'>\n",
            "vijji <class 'str'>\n",
            "89.9 <class 'float'>\n"
          ]
        }
      ]
    },
    {
      "cell_type": "code",
      "source": [
        "'''SEQUENCE Type\n",
        "sequence types are data structures that store ordered collections of items,\n",
        "allowing element access by index; examples include list, tuple, and str.'''\n",
        "'''\n",
        "Ex:variable=['string',int,float]'''\n",
        "\n",
        "student=['Janu',24,89.9]\n",
        "print(student)\n"
      ],
      "metadata": {
        "colab": {
          "base_uri": "https://localhost:8080/"
        },
        "id": "lPjji31W8aPj",
        "outputId": "41204837-dc11-4a7a-9c07-f535d4228c67"
      },
      "execution_count": 2,
      "outputs": [
        {
          "output_type": "stream",
          "name": "stdout",
          "text": [
            "['Janu', 24, 89.9]\n"
          ]
        }
      ]
    }
  ]
}