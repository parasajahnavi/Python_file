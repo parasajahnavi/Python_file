{
  "nbformat": 4,
  "nbformat_minor": 0,
  "metadata": {
    "colab": {
      "provenance": [],
      "authorship_tag": "ABX9TyORvnq9btBfPHPjk1NkAqKQ",
      "include_colab_link": true
    },
    "kernelspec": {
      "name": "python3",
      "display_name": "Python 3"
    },
    "language_info": {
      "name": "python"
    }
  },
  "cells": [
    {
      "cell_type": "markdown",
      "metadata": {
        "id": "view-in-github",
        "colab_type": "text"
      },
      "source": [
        "<a href=\"https://colab.research.google.com/github/parasajahnavi/Python_file/blob/main/Python_File.ipynb\" target=\"_parent\"><img src=\"https://colab.research.google.com/assets/colab-badge.svg\" alt=\"Open In Colab\"/></a>"
      ]
    },
    {
      "cell_type": "code",
      "execution_count": 2,
      "metadata": {
        "colab": {
          "base_uri": "https://localhost:8080/"
        },
        "id": "kTebXLD6zNTI",
        "outputId": "930f7d50-7d14-42ac-eeea-8cbdc6538956"
      },
      "outputs": [
        {
          "output_type": "stream",
          "name": "stdout",
          "text": [
            "Name\n",
            "Janu\n"
          ]
        }
      ],
      "source": [
        "#Basics of Python Day-1\n",
        "\n",
        "#syntax for print\n",
        "print('Name')\n",
        "\n",
        "#print a value by using variable\n",
        "name='Janu'\n",
        "print(name)\n",
        "\n"
      ]
    }
  ]
}